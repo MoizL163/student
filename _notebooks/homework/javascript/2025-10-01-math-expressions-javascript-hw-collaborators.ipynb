{
 "cells": [
  {
   "cell_type": "markdown",
   "id": "5b39efe0",
   "metadata": {},
   "source": [
    "# 📝 3.3 Homework: Variables & Arithmetic in Java\n",
    "\n",
    "## Learning Objectives\n",
    "1. Use **variables** in Java.  \n",
    "2. Follow **step-by-step sequencing**.  \n",
    "3. Use **arithmetic operators** (`+`, `-`, `*`, `/`).  \n",
    "\n",
    "---\n",
    "\n",
    "## Part 1: Simple Variables\n",
    "\n",
    "Write a Java program that does the following:\n",
    "\n",
    "1. Create a variable `grade1` and assign it the value `90`.  \n",
    "2. Create a variable `grade2` and assign it the value `80`.  \n",
    "3. Calculate the average of `grade1` and `grade2` and store it in `averageGrade`.  \n",
    "4. Display the average using `System.out.println()`.\n",
    "\n",
    "> Example Output:  \n",
    "> `The average is 85.0`  \n"
   ]
  },
  {
   "cell_type": "code",
   "execution_count": null,
   "id": "8d539eb9",
   "metadata": {
    "vscode": {
     "languageId": "javascript"
    }
   },
   "outputs": [],
   "source": [
    "%%js\n",
    "let grade1 = 90;\n",
    "let grade2 = 80;\n",
    "let averageGrade = (grade1 + grade2) / 2;\n",
    "console.log(\"The average is \" + averageGrade);"
   ]
  },
  {
   "cell_type": "markdown",
   "id": "73b282f8",
   "metadata": {},
   "source": [
    "## Part 2: Arithmetic Practice\n",
    "\n",
    "Write a Java program to calculate these:\n",
    "\n",
    "1. `num1 = 10`  \n",
    "2. `num2 = 5`  \n",
    "3. `sum = num1 + num2`  \n",
    "4. `difference = num1 - num2`  \n",
    "5. `product = num1 * num2`  \n",
    "6. `quotient = num1 / num2`  \n",
    "7. Display all results using `System.out.println()`.  \n",
    "\n",
    "> Example Output:  \n",
    "> ```\n",
    "> Sum: 15\n",
    "> Difference: 5\n",
    "> Product: 50\n",
    "> Quotient: 2\n",
    "> ```"
   ]
  },
  {
   "cell_type": "code",
   "execution_count": null,
   "id": "d1253a42",
   "metadata": {
    "vscode": {
     "languageId": "javascript"
    }
   },
   "outputs": [],
   "source": [
    "%%js \n",
    "let num1 = 10;\n",
    "let num2 = 5;\n",
    "\n",
    "let sum = num1 + num2;\n",
    "let difference = num1 - num2;\n",
    "let product = num1 * num2;\n",
    "let quotient = num1 / num2;\n",
    "\n",
    "console.log(\"Sum: \" + sum);\n",
    "console.log(\"Difference: \" + difference);\n",
    "console.log(\"Product: \" + product);\n",
    "console.log(\"Quotient: \" + quotient);"
   ]
  },
  {
   "cell_type": "markdown",
   "id": "b91b4ddf",
   "metadata": {},
   "source": [
    "## Part 3: Step-by-Step Sequencing\n",
    "\n",
    "Write a Java program that does this sequence:\n",
    "\n",
    "1. Set `num1 = 2` and `num2 = 3`.  \n",
    "2. Calculate `num3 = num1 + num2`.  \n",
    "3. Calculate `num4 = num3 * 2`.  \n",
    "4. Display `num3` and `num4` using `System.out.println()`.  \n",
    "\n",
    "> This shows **sequencing**: each step depends on the previous one.\n"
   ]
  },
  {
   "cell_type": "code",
   "execution_count": null,
   "id": "7e3feb2d",
   "metadata": {
    "vscode": {
     "languageId": "javascript"
    }
   },
   "outputs": [],
   "source": [
    "%%js \n",
    "let num1 = 2;\n",
    "let num2 = 3;\n",
    "\n",
    "let num3 = num1 + num2;\n",
    "let num4 = num3 * 2;\n",
    "\n",
    "console.log(\"num3: \" + num3);\n",
    "console.log(\"num4: \" + num4);"
   ]
  },
  {
   "cell_type": "markdown",
   "id": "67a8e865",
   "metadata": {},
   "source": [
    "## Part 4: Mixed Arithmetic\n",
    "\n",
    "1. Set `a = 8`, `b = 4`, `c = 2`.  \n",
    "2. Calculate:  \n",
    "   - `result1 = a + b * c`  \n",
    "   - `result2 = (a + b) * c`  \n",
    "3. Display `result1` and `result2` using `System.out.println()`.  \n",
    "\n",
    "> This helps practice **order of operations**."
   ]
  },
  {
   "cell_type": "code",
   "execution_count": null,
   "id": "713c4dad",
   "metadata": {
    "vscode": {
     "languageId": "javascript"
    }
   },
   "outputs": [],
   "source": [
    "%%js \n",
    "let a = 8;\n",
    "let b = 4;\n",
    "let c = 2;\n",
    "\n",
    "let result1 = a + b * c;\n",
    "let result2 = (a + b) * c;\n",
    "\n",
    "console.log(\"result1: \" + result1);\n",
    "console.log(\"result2: \" + result2);"
   ]
  },
  {
   "cell_type": "markdown",
   "id": "b08ff3a7",
   "metadata": {},
   "source": [
    "# Extra JS Practice\n",
    "## Problem 1: Temp Conversion\n",
    "Write a program that converts celsius = 25 to Fahrenheit using the formula:"
   ]
  },
  {
   "cell_type": "code",
   "execution_count": null,
   "id": "66e57f78",
   "metadata": {
    "vscode": {
     "languageId": "javascript"
    }
   },
   "outputs": [],
   "source": [
    "%%js\n",
    "let celsius = 25;\n",
    "let fahrenheit = (celsius * 9 / 5) + 32;\n",
    "console.log(\"Celsius:\", celsius);\n",
    "console.log(\"Fahrenheit:\", fahrenheit);"
   ]
  },
  {
   "cell_type": "markdown",
   "id": "bdfb64d9",
   "metadata": {},
   "source": [
    "## Problem 2: Combined Math Sequence\n",
    "Set x = 5, y = 10, z = 2.\n",
    "Compute:\n",
    "\t•\tstep1 = x + y\n",
    "\t•\tstep2 = step1 / z\n",
    "\t•\tfinalResult = step2 ** 2\n"
   ]
  },
  {
   "cell_type": "code",
   "execution_count": null,
   "id": "1a92ac52",
   "metadata": {
    "vscode": {
     "languageId": "javascript"
    }
   },
   "outputs": [],
   "source": [
    "%%js \n",
    "let x = 5;\n",
    "let y = 10;\n",
    "let z = 2;\n",
    "\n",
    "let step1 = x + y;\n",
    "let step2 = step1 / z;\n",
    "let finalResult = step2 ** 2;\n",
    "\n",
    "console.log(\"Step 1:\", step1);\n",
    "console.log(\"Step 2:\", step2);\n",
    "console.log(\"Final Result:\", finalResult);"
   ]
  }
 ],
 "metadata": {
  "kernelspec": {
   "display_name": ".venv",
   "language": "python",
   "name": "python3"
  },
  "language_info": {
   "codemirror_mode": {
    "name": "ipython",
    "version": 3
   },
   "file_extension": ".py",
   "mimetype": "text/x-python",
   "name": "python",
   "nbconvert_exporter": "python",
   "pygments_lexer": "ipython3",
   "version": "3.13.7"
  }
 },
 "nbformat": 4,
 "nbformat_minor": 5
}
