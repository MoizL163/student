{
 "cells": [
  {
   "cell_type": "code",
   "execution_count": null,
   "id": "cdcf93f8",
   "metadata": {},
   "outputs": [],
   "source": [
    "---\n",
    "layout: post\n",
    "title: Coding Concept - Algorithms\n",
    "description: Developing Algorithms in JavaScript\n",
    "permalink: /csp/big-idea-three/algorithms/javascript/hw/p3/syntaxterrors\n",
    "author: Anika M\n",
    "---"
   ]
  },
  {
   "cell_type": "markdown",
   "id": "7782d012",
   "metadata": {
    "vscode": {
     "languageId": "javascript"
    }
   },
   "source": [
    "<div align=\"center\" style=\"margin-bottom: 2em;\">\n",
    "  <a href=\"{{ site.baseurl }}/csp/big-idea-three/algorithms/lesson/p3/syntaxterrors\"\n",
    "     style=\"\n",
    "      display: inline-block;\n",
    "      background: linear-gradient(90deg, #2563eb 0%, #1e40af 100%);\n",
    "      color: white;\n",
    "      padding: 0.85em 2.2em;\n",
    "      border-radius: 0.6em;\n",
    "      font-weight: bold;\n",
    "      text-decoration: none;\n",
    "      font-size: 1.15em;\n",
    "      box-shadow: 0 4px 16px rgba(30,64,175,0.18), 0 1.5px 4px rgba(0,0,0,0.10);\n",
    "      transition: \n",
    "        background 0.2s,\n",
    "        transform 0.15s,\n",
    "        box-shadow 0.2s;\n",
    "    \"\n",
    "    onmouseover=\"this.style.transform='scale(1.045)'; this.style.boxShadow='0 8px 24px rgba(30,64,175,0.22), 0 2px 8px rgba(0,0,0,0.13)';\"\n",
    "    onmouseout=\"this.style.transform='scale(1)'; this.style.boxShadow='0 4px 16px rgba(30,64,175,0.18), 0 1.5px 4px rgba(0,0,0,0.10)';\"\n",
    "  >\n",
    "    Algorithms Lesson\n",
    "  </a>\n",
    "</div>"
   ]
  },
  {
   "cell_type": "code",
   "execution_count": 3,
   "id": "099dbffe",
   "metadata": {
    "vscode": {
     "languageId": "javascript"
    }
   },
   "outputs": [
    {
     "data": {
      "application/javascript": "\n// ============================================================\n// AP CSP: Developing Algorithms with Tic Tac Toe 🧩\n// ============================================================\n// Today you'll use algorithmic thinking to model a Tic Tac Toe game!\n// We'll use a 2D array to represent the board and write algorithms\n// that make moves and check for a winner.\n// ============================================================\n\n\n// -------------------------------\n// Popcorn Hack 1: Initialize the 3x3 Board\n// -------------------------------\n// TODO: Create a 2D array that represents a 3x3 Tic Tac Toe board.\n// Each space should start as \"_\".\n// Example shape:\n// [\n//   [\"_\", \"_\", \"_\"],\n//   [\"_\", \"_\", \"_\"],\n//   [\"_\", \"_\", \"_\"]\n// ]\n\nlet board = [\n  [\"_\", \"_\", \"_\"],\n  [\"_\", \"_\", \"_\"],\n  [\"_\", \"_\", \"_\"]\n];\n\nconsole.log(\"Starting board:\");\nfor (let row of board) {\n  console.log(row);\n}\n\n// -------------------------------\n// Popcorn Hack 2: Make a Move\n// -------------------------------\n// TODO: Place an \"X\" in the center of the board (row 1, col 1).\n// Then, place an \"O\" in the top-left corner (row 0, col 0).\n// Use 2D indexing: board[row][col] = value\n\n// board[...][...] = ... // <-- fill in here\n// board[...][...] = ... // <-- fill in here\n\nboard[1][1] = \"X\"; // center\nboard[0][0] = \"O\"; // top-left\n\nconsole.log(\"\\nBoard after two moves:\");\nfor (let row of board) {\n  console.log(row);\n}\n\n\n// -------------------------------\n// Popcorn Hack 3: Check for a Win\n// -------------------------------\n// TODO: Write an algorithm to check if either player (\"X\" or \"O\") has won.\n// A player wins if:\n//   ✅ Any row has all three of their symbols\n//   ✅ Any column has all three of their symbols\n//   ✅ Either diagonal has all three of their symbols\n//\n// The row and diagonal checks are given below.\n// Your task: fill in the missing code for the COLUMN check section.\n\nfunction checkWinner(board, player) {\n  // --- Check rows ---\n   for (let r = 0; r < 3; r++) {\n    if (board[r][0] === player && board[r][1] === player && board[r][2] === player) {\n      return true;\n    }\n  }\n\n  // --- Check columns ---\n  // TODO: Fill in this section!\n  // Hint: Use a loop (for let c = 0; c < 3; c++) and check if\n  // board[0][c], board[1][c], and board[2][c] are all equal to player.\n\n  for (let c = 0; c < 3; c++) {\n    if (board[0][c] === player && board[1][c] === player && board[2][c] === player) {\n      return true;\n    }\n  }\n\n  // --- Check the first diagonal ---\n  if (board[0][0] === player && board[1][1] === player && board[2][2] === player) {\n    return true;\n  }\n\n\n  // --- Check the second diagonal ---\n  // TODO: Fill in this section!\n  // if (board[...][...] === player && board[...][...] === player && board[...][...] === player) {\n  //   return true;\n  // }\n    if (board[0][2] === player && board[1][1] === player && board[2][0] === player) {\n    return true;\n  }\n\n  return false;\n}\n\n  // No winner found\n  return false;\n\n\n\n// Test your algorithm with a sample board!\nboard = [\n  [\"X\", \"O\", \"X\"],\n  [\"O\", \"X\", \"_\"],\n  [\"O\", \"_\", \"X\"]\n];\n\nconsole.log(\"\\nTesting winner algorithm:\");\nfor (let row of board) {\n  console.log(row);\n}\n\n// Check both players\nif (checkWinner(board, \"X\")) {\n  console.log(\"X wins!\");\n} else if (checkWinner(board, \"O\")) {\n  console.log(\"O wins!\");\n} else {\n  console.log(\"No winner yet.\");\n}\n",
      "text/plain": [
       "<IPython.core.display.Javascript object>"
      ]
     },
     "metadata": {},
     "output_type": "display_data"
    }
   ],
   "source": [
    "%%js \n",
    "\n",
    "// ============================================================\n",
    "// AP CSP: Developing Algorithms with Tic Tac Toe 🧩\n",
    "// ============================================================\n",
    "// Today you'll use algorithmic thinking to model a Tic Tac Toe game!\n",
    "// We'll use a 2D array to represent the board and write algorithms\n",
    "// that make moves and check for a winner.\n",
    "// ============================================================\n",
    "\n",
    "\n",
    "// -------------------------------\n",
    "// Popcorn Hack 1: Initialize the 3x3 Board\n",
    "// -------------------------------\n",
    "// TODO: Create a 2D array that represents a 3x3 Tic Tac Toe board.\n",
    "// Each space should start as \"_\".\n",
    "// Example shape:\n",
    "// [\n",
    "//   [\"_\", \"_\", \"_\"],\n",
    "//   [\"_\", \"_\", \"_\"],\n",
    "//   [\"_\", \"_\", \"_\"]\n",
    "// ]\n",
    "\n",
    "let board = [\n",
    "  [\"_\", \"_\", \"_\"],\n",
    "  [\"_\", \"_\", \"_\"],\n",
    "  [\"_\", \"_\", \"_\"]\n",
    "];\n",
    "\n",
    "console.log(\"Starting board:\");\n",
    "for (let row of board) {\n",
    "  console.log(row);\n",
    "}\n",
    "\n",
    "// -------------------------------\n",
    "// Popcorn Hack 2: Make a Move\n",
    "// -------------------------------\n",
    "// TODO: Place an \"X\" in the center of the board (row 1, col 1).\n",
    "// Then, place an \"O\" in the top-left corner (row 0, col 0).\n",
    "// Use 2D indexing: board[row][col] = value\n",
    "\n",
    "// board[...][...] = ... // <-- fill in here\n",
    "// board[...][...] = ... // <-- fill in here\n",
    "\n",
    "board[1][1] = \"X\"; // center\n",
    "board[0][0] = \"O\"; // top-left\n",
    "\n",
    "console.log(\"\\nBoard after two moves:\");\n",
    "for (let row of board) {\n",
    "  console.log(row);\n",
    "}\n",
    "\n",
    "\n",
    "// -------------------------------\n",
    "// Popcorn Hack 3: Check for a Win\n",
    "// -------------------------------\n",
    "// TODO: Write an algorithm to check if either player (\"X\" or \"O\") has won.\n",
    "// A player wins if:\n",
    "//   ✅ Any row has all three of their symbols\n",
    "//   ✅ Any column has all three of their symbols\n",
    "//   ✅ Either diagonal has all three of their symbols\n",
    "//\n",
    "// The row and diagonal checks are given below.\n",
    "// Your task: fill in the missing code for the COLUMN check section.\n",
    "\n",
    "function checkWinner(board, player) {\n",
    "  // --- Check rows ---\n",
    "   for (let r = 0; r < 3; r++) {\n",
    "    if (board[r][0] === player && board[r][1] === player && board[r][2] === player) {\n",
    "      return true;\n",
    "    }\n",
    "  }\n",
    "\n",
    "  // --- Check columns ---\n",
    "  // TODO: Fill in this section!\n",
    "  // Hint: Use a loop (for let c = 0; c < 3; c++) and check if\n",
    "  // board[0][c], board[1][c], and board[2][c] are all equal to player.\n",
    "\n",
    "  for (let c = 0; c < 3; c++) {\n",
    "    if (board[0][c] === player && board[1][c] === player && board[2][c] === player) {\n",
    "      return true;\n",
    "    }\n",
    "  }\n",
    "\n",
    "  // --- Check the first diagonal ---\n",
    "  if (board[0][0] === player && board[1][1] === player && board[2][2] === player) {\n",
    "    return true;\n",
    "  }\n",
    "\n",
    "\n",
    "  // --- Check the second diagonal ---\n",
    "  // TODO: Fill in this section!\n",
    "  // if (board[...][...] === player && board[...][...] === player && board[...][...] === player) {\n",
    "  //   return true;\n",
    "  // }\n",
    "    if (board[0][2] === player && board[1][1] === player && board[2][0] === player) {\n",
    "    return true;\n",
    "  }\n",
    "\n",
    "  return false;\n",
    "}\n",
    "\n",
    "  // No winner found\n",
    "  return false;\n",
    "\n",
    "\n",
    "\n",
    "// Test your algorithm with a sample board!\n",
    "board = [\n",
    "  [\"X\", \"O\", \"X\"],\n",
    "  [\"O\", \"X\", \"_\"],\n",
    "  [\"O\", \"_\", \"X\"]\n",
    "];\n",
    "\n",
    "console.log(\"\\nTesting winner algorithm:\");\n",
    "for (let row of board) {\n",
    "  console.log(row);\n",
    "}\n",
    "\n",
    "// Check both players\n",
    "if (checkWinner(board, \"X\")) {\n",
    "  console.log(\"X wins!\");\n",
    "} else if (checkWinner(board, \"O\")) {\n",
    "  console.log(\"O wins!\");\n",
    "} else {\n",
    "  console.log(\"No winner yet.\");\n",
    "}\n"
   ]
  },
  {
   "cell_type": "markdown",
   "id": "50a24a6c",
   "metadata": {},
   "source": [
    "# Extra JS Practice \n",
    "\n",
    "## Problem 1: Count Empty Spaces\n",
    "Write a function that counts how many spaces on the Tic Tac Toe board are still \"_\"."
   ]
  },
  {
   "cell_type": "code",
   "execution_count": 8,
   "id": "8d2125a9",
   "metadata": {
    "vscode": {
     "languageId": "javascript"
    }
   },
   "outputs": [
    {
     "data": {
      "application/javascript": "function countEmpty(board) {\n  let count = 0;\n  for (let row of board) {\n    for (let cell of row) {\n      if (cell === \"_\") {\n        count++;\n      }\n    }\n  }\n  return count;\n}\n\nlet board = [\n  [\"X\", \"O\", \"X\"],\n  [\"O\", \"X\", \"_\"],\n  [\"O\", \"_\", \"X\"]\n];\n\nconsole.log(\"Empty spaces:\", countEmpty(board));\n",
      "text/plain": [
       "<IPython.core.display.Javascript object>"
      ]
     },
     "metadata": {},
     "output_type": "display_data"
    }
   ],
   "source": [
    "%%js\n",
    "function countEmpty(board) {\n",
    "  let count = 0;\n",
    "  for (let row of board) {\n",
    "    for (let cell of row) {\n",
    "      if (cell === \"_\") {\n",
    "        count++;\n",
    "      }\n",
    "    }\n",
    "  }\n",
    "  return count;\n",
    "}\n",
    "\n",
    "let board = [\n",
    "  [\"X\", \"O\", \"X\"],\n",
    "  [\"O\", \"X\", \"_\"],\n",
    "  [\"O\", \"_\", \"X\"]\n",
    "];\n",
    "\n",
    "console.log(\"Empty spaces:\", countEmpty(board));"
   ]
  },
  {
   "cell_type": "markdown",
   "id": "67183bb7",
   "metadata": {},
   "source": [
    "## Problem 2: Random Move Generator\n",
    "Write a function that places an \"O\" in a random empty spot on the board."
   ]
  },
  {
   "cell_type": "code",
   "execution_count": 11,
   "id": "de5974f0",
   "metadata": {
    "vscode": {
     "languageId": "javascript"
    }
   },
   "outputs": [
    {
     "data": {
      "application/javascript": "let board = [\n  [\"X\", \"O\", \"X\"],\n  [\"O\", \"X\", \"_\"],\n  [\"O\", \"_\", \"X\"]\n];\n\nfunction randomMove(board) {\n  let emptyPositions = [];\n  for (let r = 0; r < 3; r++) {\n    for (let c = 0; c < 3; c++) {\n      if (board[r][c] === \"_\") {\n        emptyPositions.push([r, c]);\n      }\n    }\n  }\n\n  if (emptyPositions.length > 0) {\n    let [r, c] = emptyPositions[Math.floor(Math.random() * emptyPositions.length)];\n    board[r][c] = \"O\";\n  }\n}\n\nrandomMove(board);\nconsole.log(\"\\nBoard after random move:\");\nfor (let row of board) {\n  console.log(row);\n}\n",
      "text/plain": [
       "<IPython.core.display.Javascript object>"
      ]
     },
     "metadata": {},
     "output_type": "display_data"
    }
   ],
   "source": [
    "%%js\n",
    "let board = [\n",
    "  [\"X\", \"O\", \"X\"],\n",
    "  [\"O\", \"X\", \"_\"],\n",
    "  [\"O\", \"_\", \"X\"]\n",
    "];\n",
    "\n",
    "function randomMove(board) {\n",
    "  let emptyPositions = [];\n",
    "  for (let r = 0; r < 3; r++) {\n",
    "    for (let c = 0; c < 3; c++) {\n",
    "      if (board[r][c] === \"_\") {\n",
    "        emptyPositions.push([r, c]);\n",
    "      }\n",
    "    }\n",
    "  }\n",
    "\n",
    "  if (emptyPositions.length > 0) {\n",
    "    let [r, c] = emptyPositions[Math.floor(Math.random() * emptyPositions.length)];\n",
    "    board[r][c] = \"O\";\n",
    "  }\n",
    "}\n",
    "\n",
    "randomMove(board);\n",
    "console.log(\"\\nBoard after random move:\");\n",
    "for (let row of board) {\n",
    "  console.log(row);\n",
    "}"
   ]
  }
 ],
 "metadata": {
  "kernelspec": {
   "display_name": "venv",
   "language": "python",
   "name": "python3"
  },
  "language_info": {
   "codemirror_mode": {
    "name": "ipython",
    "version": 3
   },
   "file_extension": ".py",
   "mimetype": "text/x-python",
   "name": "python",
   "nbconvert_exporter": "python",
   "pygments_lexer": "ipython3",
   "version": "3.13.3"
  }
 },
 "nbformat": 4,
 "nbformat_minor": 5
}
