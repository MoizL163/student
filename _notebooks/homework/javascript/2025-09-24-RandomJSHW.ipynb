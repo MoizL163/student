{
 "cells": [
  {
   "cell_type": "markdown",
   "id": "91855f93",
   "metadata": {},
   "source": [
    "---\n",
    "layout: post\n",
    "title: Sprint 2 - Random Numbers (Javascript)\n",
    "description:  Homework for Random Numbers in Javascript\n",
    "toc: true\n",
    "authors: Shayan B, Akhil K.\n",
    "breadcrumbs: True\n",
    "permalink: /csp/big-idea-3/RandomJS/p3/homework\n",
    "---"
   ]
  },
  {
   "cell_type": "markdown",
   "id": "9ad890a4",
   "metadata": {},
   "source": [
    "<style>\n",
    "/* 🕹️ JS Random Homework */\n",
    ".js-random-hw {\n",
    "  background: linear-gradient(135deg, #0d001a, #1a0033, #220044);\n",
    "  border: 2px solid #ff4081;\n",
    "  border-radius: 14px;\n",
    "  padding: 30px;\n",
    "  margin: 30px auto;\n",
    "  max-width: 950px;\n",
    "  font-family: \"Segoe UI\", sans-serif;\n",
    "  color: #f9eaff;\n",
    "  box-shadow: 0 0 35px rgba(255, 64, 129, 0.7);\n",
    "  line-height: 1.8em;\n",
    "}\n",
    "\n",
    "/* Heading Glow */\n",
    ".js-random-hw h2 {\n",
    "  color: #ff4081;\n",
    "  text-shadow: 0 0 15px rgba(255, 64, 129, 1);\n",
    "  font-family: \"Orbitron\", \"Segoe UI\", sans-serif;\n",
    "  margin-bottom: 15px;\n",
    "  font-size: 1.8em;\n",
    "}\n",
    "\n",
    "/* Hack Subtitles */\n",
    ".js-random-hw h3 {\n",
    "  color: #00e5ff;\n",
    "  text-shadow: 0 0 10px rgba(0, 229, 255, 0.9);\n",
    "  margin-top: 18px;\n",
    "}\n",
    "\n",
    "/* Hack List */\n",
    ".js-random-hw li {\n",
    "  margin: 10px 0;\n",
    "  padding-left: 5px;\n",
    "  list-style: \"⚡ \";\n",
    "  font-weight: bold;\n",
    "}\n",
    "\n",
    "/* Glow Colors for Variety */\n",
    ".color { color: #00ffcc; text-shadow: 0 0 8px rgba(0,255,204,0.9); }\n",
    ".password { color: #ffeb3b; text-shadow: 0 0 8px rgba(255,235,59,0.9); }\n",
    ".coin { color: #ff9800; text-shadow: 0 0 8px rgba(255,152,0,1); }\n",
    ".compliment { color: #76ff03; text-shadow: 0 0 8px rgba(118,255,3,0.9); }\n",
    ".guess { color: #ff1744; text-shadow: 0 0 8px rgba(255,23,68,0.9); }\n",
    ".teams { color: #8c9eff; text-shadow: 0 0 8px rgba(140,158,255,0.9); }\n",
    "</style>\n",
    "\n",
    "<div class=\"js-random-hw\">\n",
    "  <h2>🎮 Optional Hacks (ONLY 1 is REQUIRED TO BE COMPLETED!)</h2>\n",
    "\n",
    "  <h3>Hack 1: <span class=\"color\">Random Color Generator</span></h3>\n",
    "  <p>Generate random RGB colors with one click.<br>\n",
    "  Format: <code>rgb(random, random, random)</code> (0–255).<br>\n",
    "  Change a box’s background & show the color code.</p>\n",
    "\n",
    "  <h3>Hack 2: <span class=\"password\">Random Password Maker</span></h3>\n",
    "  <p>Create passwords with random letters & numbers.<br>\n",
    "  User picks length (6–20).<br>\n",
    "  One button = new password each time.</p>\n",
    "\n",
    "  <h3>Hack 3: <span class=\"coin\">Coin Flip Streak Tracker</span></h3>\n",
    "  <p>Flip a coin (50/50 chance).<br>\n",
    "  Track the longest streak of same results.<br>\n",
    "  Example: <i>\"Heads, Heads, Heads = 3 streak!\"</i></p>\n",
    "\n",
    "  <h3>Hack 4: <span class=\"compliment\">Random Compliment Generator</span></h3>\n",
    "  <p>Pick random compliments from a list of 10–15.<br>\n",
    "  Button = new compliment.<br>\n",
    "  Simple mood booster 💚.</p>\n",
    "\n",
    "  <h3>Hack 5: <span class=\"guess\">Number Guessing Game</span></h3>\n",
    "  <p>Computer picks random number (1–50).<br>\n",
    "  User guesses → show “Too high!” or “Too low!”.<br>\n",
    "  Count guesses until win.</p>\n",
    "\n",
    "  <h3>Hack 6: <span class=\"teams\">Random Team Maker</span></h3>\n",
    "  <p>Enter 6–10 names in a box.<br>\n",
    "  Randomly split into 2 teams.<br>\n",
    "  Display Team A and Team B lists.</p>\n",
    "\n",
    "  <p><i>All hacks use <code>Math.random()</code>, <code>Math.floor()</code>, arrays, and simple HTML buttons/displays!</i></p>\n",
    "</div>\n"
   ]
  },
  {
   "cell_type": "markdown",
   "id": "6b41ab64",
   "metadata": {},
   "source": [
    "## Hack 1"
   ]
  },
  {
   "cell_type": "code",
   "execution_count": 15,
   "id": "92467691",
   "metadata": {
    "vscode": {
     "languageId": "javascript"
    }
   },
   "outputs": [
    {
     "data": {
      "application/javascript": "\nfunction randomColor() {\n    const r = Math.floor(Math.random() * 256);\n    const g = Math.floor(Math.random() * 256);\n    const b = Math.floor(Math.random() * 256);\n    const color = `rgb(${r}, ${g}, ${b})`;\n    console.log(\"Random Color:\", color);\n}\nrandomColor();\n",
      "text/plain": [
       "<IPython.core.display.Javascript object>"
      ]
     },
     "metadata": {},
     "output_type": "display_data"
    }
   ],
   "source": [
    "%%js\n",
    "\n",
    "function randomColor() {\n",
    "    const r = Math.floor(Math.random() * 256);\n",
    "    const g = Math.floor(Math.random() * 256);\n",
    "    const b = Math.floor(Math.random() * 256);\n",
    "    const color = `rgb(${r}, ${g}, ${b})`;\n",
    "    console.log(\"Random Color:\", color);\n",
    "}\n",
    "randomColor();"
   ]
  },
  {
   "cell_type": "markdown",
   "id": "64cc726d",
   "metadata": {},
   "source": [
    "## Hack 2"
   ]
  },
  {
   "cell_type": "code",
   "execution_count": 16,
   "id": "eca4423f",
   "metadata": {
    "vscode": {
     "languageId": "javascript"
    }
   },
   "outputs": [
    {
     "data": {
      "application/javascript": "function randomPassword(length = 8) {\n    const chars = \"abcdefghijklmnopqrstuvwxyzABCDEFGHIJKLMNOPQRSTUVWXYZ0123456789\";\n    let pwd = \"\";\n    for (let i = 0; i < length; i++) {\n        pwd += chars[Math.floor(Math.random() * chars.length)];\n    }\n    console.log(\"Random Password:\", pwd);\n}\nrandomPassword(10);\n",
      "text/plain": [
       "<IPython.core.display.Javascript object>"
      ]
     },
     "metadata": {},
     "output_type": "display_data"
    }
   ],
   "source": [
    "%%js\n",
    "function randomPassword(length = 8) {\n",
    "    const chars = \"abcdefghijklmnopqrstuvwxyzABCDEFGHIJKLMNOPQRSTUVWXYZ0123456789\";\n",
    "    let pwd = \"\";\n",
    "    for (let i = 0; i < length; i++) {\n",
    "        pwd += chars[Math.floor(Math.random() * chars.length)];\n",
    "    }\n",
    "    console.log(\"Random Password:\", pwd);\n",
    "}\n",
    "randomPassword(10);\n"
   ]
  },
  {
   "cell_type": "markdown",
   "id": "7b09295d",
   "metadata": {},
   "source": [
    "## Hack 3"
   ]
  },
  {
   "cell_type": "code",
   "execution_count": 17,
   "id": "c2557299",
   "metadata": {
    "vscode": {
     "languageId": "javascript"
    }
   },
   "outputs": [
    {
     "data": {
      "application/javascript": "let lastFlip = null;\nlet streak = 0;\nlet maxStreak = 0;\nfunction coinFlip() {\n    const flip = Math.random() < 0.5 ? \"Heads\" : \"Tails\";\n    if (flip === lastFlip) streak++;\n    else streak = 1;\n    if (streak > maxStreak) maxStreak = streak;\n    lastFlip = flip;\n    console.log(\"Coin Flip:\", flip, \"| Current streak:\", streak, \"| Max streak:\", maxStreak);\n}\ncoinFlip();\ncoinFlip();\ncoinFlip();\n",
      "text/plain": [
       "<IPython.core.display.Javascript object>"
      ]
     },
     "metadata": {},
     "output_type": "display_data"
    }
   ],
   "source": [
    "%%js\n",
    "let lastFlip = null;\n",
    "let streak = 0;\n",
    "let maxStreak = 0;\n",
    "function coinFlip() {\n",
    "    const flip = Math.random() < 0.5 ? \"Heads\" : \"Tails\";\n",
    "    if (flip === lastFlip) streak++;\n",
    "    else streak = 1;\n",
    "    if (streak > maxStreak) maxStreak = streak;\n",
    "    lastFlip = flip;\n",
    "    console.log(\"Coin Flip:\", flip, \"| Current streak:\", streak, \"| Max streak:\", maxStreak);\n",
    "}\n",
    "coinFlip();\n",
    "coinFlip();\n",
    "coinFlip();"
   ]
  },
  {
   "cell_type": "markdown",
   "id": "9e398d08",
   "metadata": {},
   "source": [
    "## Hack 4"
   ]
  },
  {
   "cell_type": "code",
   "execution_count": 18,
   "id": "d8ae7e1b",
   "metadata": {
    "vscode": {
     "languageId": "javascript"
    }
   },
   "outputs": [
    {
     "data": {
      "application/javascript": "const compliments = [\"You are awesome!\", \"Great job!\", \"Keep smiling!\", \"You rock!\", \"Fantastic work!\", \"Amazing!\", \"Well done!\", \"You are brilliant!\", \"Superb!\", \"Excellent!\"];\nfunction randomCompliment() {\n    const c = compliments[Math.floor(Math.random() * compliments.length)];\n    console.log(\"Compliment:\", c);\n}\nrandomCompliment();\n",
      "text/plain": [
       "<IPython.core.display.Javascript object>"
      ]
     },
     "metadata": {},
     "output_type": "display_data"
    }
   ],
   "source": [
    "%%js\n",
    "const compliments = [\"You are awesome!\", \"Great job!\", \"Keep smiling!\", \"You rock!\", \"Fantastic work!\", \"Amazing!\", \"Well done!\", \"You are brilliant!\", \"Superb!\", \"Excellent!\"];\n",
    "function randomCompliment() {\n",
    "    const c = compliments[Math.floor(Math.random() * compliments.length)];\n",
    "    console.log(\"Compliment:\", c);\n",
    "}\n",
    "randomCompliment();\n"
   ]
  },
  {
   "cell_type": "markdown",
   "id": "37be5ab7",
   "metadata": {},
   "source": [
    "## Hack 5"
   ]
  },
  {
   "cell_type": "code",
   "execution_count": 19,
   "id": "385ad7ae",
   "metadata": {
    "vscode": {
     "languageId": "javascript"
    }
   },
   "outputs": [
    {
     "data": {
      "application/javascript": "const numberToGuess = Math.floor(Math.random() * 50) + 1;\nlet guesses = 0;\nfunction guessNumber(guess) {\n    guesses++;\n    if (guess < numberToGuess) console.log(\"Too low!\");\n    else if (guess > numberToGuess) console.log(\"Too high!\");\n    else console.log(`Correct! You guessed ${numberToGuess} in ${guesses} tries.`);\n}\nguessNumber(20);\nguessNumber(35);\nguessNumber(42);\n",
      "text/plain": [
       "<IPython.core.display.Javascript object>"
      ]
     },
     "metadata": {},
     "output_type": "display_data"
    }
   ],
   "source": [
    "%%js\n",
    "const numberToGuess = Math.floor(Math.random() * 50) + 1;\n",
    "let guesses = 0;\n",
    "function guessNumber(guess) {\n",
    "    guesses++;\n",
    "    if (guess < numberToGuess) console.log(\"Too low!\");\n",
    "    else if (guess > numberToGuess) console.log(\"Too high!\");\n",
    "    else console.log(`Correct! You guessed ${numberToGuess} in ${guesses} tries.`);\n",
    "}\n",
    "guessNumber(20);\n",
    "guessNumber(35);\n",
    "guessNumber(42);"
   ]
  },
  {
   "cell_type": "markdown",
   "id": "275504e9",
   "metadata": {},
   "source": [
    "## Hack 6"
   ]
  },
  {
   "cell_type": "code",
   "execution_count": 21,
   "id": "16a077d9",
   "metadata": {
    "vscode": {
     "languageId": "javascript"
    }
   },
   "outputs": [
    {
     "data": {
      "application/javascript": "function randomTeams(names) {\n    for (let i = names.length - 1; i > 0; i--) {\n        const j = Math.floor(Math.random() * (i + 1));\n        [names[i], names[j]] = [names[j], names[i]];\n    }\n    const mid = Math.ceil(names.length / 2);\n    console.log(\"Team A:\", names.slice(0, mid));\n    console.log(\"Team B:\", names.slice(mid));\n}\nrandomTeams([\"Moiz\", \"Aneesh\", \"Ethan\", \"Neil\", \"Tanay\", \"Perry\"]);\n",
      "text/plain": [
       "<IPython.core.display.Javascript object>"
      ]
     },
     "metadata": {},
     "output_type": "display_data"
    }
   ],
   "source": [
    "%%js\n",
    "function randomTeams(names) {\n",
    "    for (let i = names.length - 1; i > 0; i--) {\n",
    "        const j = Math.floor(Math.random() * (i + 1));\n",
    "        [names[i], names[j]] = [names[j], names[i]];\n",
    "    }\n",
    "    const mid = Math.ceil(names.length / 2);\n",
    "    console.log(\"Team A:\", names.slice(0, mid));\n",
    "    console.log(\"Team B:\", names.slice(mid));\n",
    "}\n",
    "randomTeams([\"Moiz\", \"Aneesh\", \"Ethan\", \"Neil\", \"Tanay\", \"Perry\"]);"
   ]
  }
 ],
 "metadata": {
  "kernelspec": {
   "display_name": "venv",
   "language": "python",
   "name": "python3"
  },
  "language_info": {
   "codemirror_mode": {
    "name": "ipython",
    "version": 3
   },
   "file_extension": ".py",
   "mimetype": "text/x-python",
   "name": "python",
   "nbconvert_exporter": "python",
   "pygments_lexer": "ipython3",
   "version": "3.13.3"
  }
 },
 "nbformat": 4,
 "nbformat_minor": 5
}
