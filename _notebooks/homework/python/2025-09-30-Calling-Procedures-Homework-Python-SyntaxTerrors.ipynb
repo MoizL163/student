{
 "cells": [
  {
   "cell_type": "code",
   "execution_count": null,
   "id": "96c0ed4f",
   "metadata": {},
   "outputs": [],
   "source": [
    "---\n",
    "layout: post\n",
    "title: Calling Procedures Hacks\n",
    "description: This page will teach you about calling procedures through hacks.\n",
    "permalink: /csp/big-idea-three/calling-procedures/python/hw/p3/syntaxterrors\n",
    "Author: Kailyn Sanford\n",
    "---"
   ]
  },
  {
   "cell_type": "markdown",
   "id": "a8018ed0",
   "metadata": {
    "vscode": {
     "languageId": "html"
    }
   },
   "source": [
    "<div align=\"center\" style=\"margin-bottom: 2em;\">\n",
    "  <a href=\"{{ site.baseurl }}/csp/big-idea-three/callingprocedures/lesson/p3/syntaxterrors\"\n",
    "     style=\"\n",
    "      display: inline-block;\n",
    "      background: linear-gradient(90deg, #2563eb 0%, #1e40af 100%);\n",
    "      color: white;\n",
    "      padding: 0.85em 2.2em;\n",
    "      border-radius: 0.6em;\n",
    "      font-weight: bold;\n",
    "      text-decoration: none;\n",
    "      font-size: 1.15em;\n",
    "      box-shadow: 0 4px 16px rgba(30,64,175,0.18), 0 1.5px 4px rgba(0,0,0,0.10);\n",
    "      transition: \n",
    "        background 0.2s,\n",
    "        transform 0.15s,\n",
    "        box-shadow 0.2s;\n",
    "    \"\n",
    "    onmouseover=\"this.style.transform='scale(1.045)'; this.style.boxShadow='0 8px 24px rgba(30,64,175,0.22), 0 2px 8px rgba(0,0,0,0.13)';\"\n",
    "    onmouseout=\"this.style.transform='scale(1)'; this.style.boxShadow='0 4px 16px rgba(30,64,175,0.18), 0 1.5px 4px rgba(0,0,0,0.10)';\"\n",
    "  >\n",
    "    Calling Procedures Lesson\n",
    "  </a>\n",
    "</div>"
   ]
  },
  {
   "cell_type": "markdown",
   "id": "c09d0487",
   "metadata": {},
   "source": [
    "## Running to the DOM\n",
    "After editing the code, try running the code and see if it displays under the cell! If it shows under the cell correctly, you edited it correctly!"
   ]
  },
  {
   "cell_type": "markdown",
   "id": "1818d973",
   "metadata": {},
   "source": [
    "## 1. Basic Call\n",
    "How would you go about calling the greet function? Edit the code to add a call."
   ]
  },
  {
   "cell_type": "code",
   "execution_count": 1,
   "id": "60a45115",
   "metadata": {},
   "outputs": [
    {
     "name": "stdout",
     "output_type": "stream",
     "text": [
      "Hello, world!\n"
     ]
    }
   ],
   "source": [
    "def greet():\n",
    "    print(\"Hello, world!\")\n",
    "\n",
    "# call the \"greet\" procedure here\n",
    "greet()"
   ]
  },
  {
   "cell_type": "markdown",
   "id": "210042ba",
   "metadata": {},
   "source": [
    "## 2. Calling with Parameters\n",
    "Try changing the name within the parameter to your own name."
   ]
  },
  {
   "cell_type": "code",
   "execution_count": 2,
   "id": "fde5bc97",
   "metadata": {},
   "outputs": [
    {
     "name": "stdout",
     "output_type": "stream",
     "text": [
      "Hello, Moiz\n",
      "Hello, Neil\n"
     ]
    }
   ],
   "source": [
    "def greet(name):\n",
    "    print(\"Hello,\", name)\n",
    "\n",
    "# Put your name and a friends name into the call!\n",
    "greet(\"Moiz\")\n",
    "greet(\"Neil\")\n"
   ]
  },
  {
   "cell_type": "markdown",
   "id": "5d36b73c",
   "metadata": {},
   "source": [
    "## 3. Call within a Call\n",
    "try calling the \"jump\" procedure within the \"dance\" procedure!"
   ]
  },
  {
   "cell_type": "code",
   "execution_count": 3,
   "id": "be906fe2",
   "metadata": {},
   "outputs": [
    {
     "name": "stdout",
     "output_type": "stream",
     "text": [
      "Spin around!\n",
      "Jump up!\n",
      "Jump up!\n",
      "Clap your hands!\n"
     ]
    }
   ],
   "source": [
    "def jump():\n",
    "    print(\"Jump up!\")\n",
    "\n",
    "def dance():  # call the jump procedure in here as many times as you want!\n",
    "    print(\"Spin around!\")\n",
    "    jump()\n",
    "    jump()\n",
    "    print(\"Clap your hands!\")\n",
    "\n",
    "dance()"
   ]
  },
  {
   "cell_type": "markdown",
   "id": "ed615177",
   "metadata": {},
   "source": [
    "## Let's try it with numbers!\n",
    "Change the #s below to any two numbers to check the sum! Once completed, try and change the function to a different math procedure (such as subtraction, multiplication, or division). If you want an extra challenge, how can we add more variables, or make the math function more complex within the procedure?"
   ]
  },
  {
   "cell_type": "code",
   "execution_count": 4,
   "id": "3de9c996",
   "metadata": {},
   "outputs": [
    {
     "name": "stdout",
     "output_type": "stream",
     "text": [
      "8\n"
     ]
    }
   ],
   "source": [
    "def add_numbers(a, b):\n",
    "    sum_value = a + b\n",
    "    return sum_value\n",
    "\n",
    "answer = add_numbers(3, 5)  \n",
    "print(answer)  "
   ]
  },
  {
   "cell_type": "markdown",
   "id": "de479d56",
   "metadata": {},
   "source": [
    "# Extra Python Procedure Practice\n",
    "## Problem 1\n",
    "Write a Python function called greet_user that takes two parameters: name (a string) and time_of_day (a string like \"morning\", \"afternoon\", or \"evening\")."
   ]
  },
  {
   "cell_type": "code",
   "execution_count": 1,
   "id": "30652230",
   "metadata": {},
   "outputs": [
    {
     "name": "stdout",
     "output_type": "stream",
     "text": [
      "Good afternoon, Moiz!\n"
     ]
    }
   ],
   "source": [
    "def greet_user(name, time_of_day):\n",
    "    print(f\"Good {time_of_day}, {name}!\")\n",
    "\n",
    "# Call the function\n",
    "greet_user(\"Moiz\", \"afternoon\")"
   ]
  },
  {
   "cell_type": "markdown",
   "id": "1be6f108",
   "metadata": {},
   "source": [
    "## Problem 2\n",
    "Create a function calculate_area that calculates the area of a rectangle. It should take two arguments: length and width. Then, write a second function print_area that calls calculate_area."
   ]
  },
  {
   "cell_type": "code",
   "execution_count": 2,
   "id": "523a3e61",
   "metadata": {},
   "outputs": [
    {
     "name": "stdout",
     "output_type": "stream",
     "text": [
      "The area is: 15\n"
     ]
    }
   ],
   "source": [
    "def calculate_area(length, width):\n",
    "    return length * width\n",
    "\n",
    "def print_area(length, width):\n",
    "    area = calculate_area(length, width)\n",
    "    print(f\"The area is: {area}\")\n",
    "\n",
    "# Call the function\n",
    "print_area(5, 3)"
   ]
  }
 ],
 "metadata": {
  "kernelspec": {
   "display_name": "venv",
   "language": "python",
   "name": "python3"
  },
  "language_info": {
   "codemirror_mode": {
    "name": "ipython",
    "version": 3
   },
   "file_extension": ".py",
   "mimetype": "text/x-python",
   "name": "python",
   "nbconvert_exporter": "python",
   "pygments_lexer": "ipython3",
   "version": "3.13.3"
  }
 },
 "nbformat": 4,
 "nbformat_minor": 5
}
