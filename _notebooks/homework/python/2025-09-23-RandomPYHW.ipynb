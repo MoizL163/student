{
 "cells": [
  {
   "cell_type": "markdown",
   "id": "d61cf37c",
   "metadata": {},
   "source": [
    "---\n",
    "layout: post\n",
    "title: Sprint 2 - Random Numbers! (Python)\n",
    "description:  Homework in Random Numbers in Python \n",
    "toc: true\n",
    "authors: Rudra Joshi, Samarth Vaka\n",
    "breadcrumbs: True\n",
    "permalink: /csp/big-idea-3/RandomPY/p3/homework\n",
    "---"
   ]
  },
  {
   "cell_type": "markdown",
   "id": "b8fb4e37",
   "metadata": {},
   "source": [
    "<style>\n",
    "/* 📚 Homework Section */\n",
    ".python-hw {\n",
    "  background: linear-gradient(135deg, #120012, #1a001a, #2b002b);\n",
    "  border: 2px solid #bb86fc;\n",
    "  border-radius: 14px;\n",
    "  padding: 30px;\n",
    "  margin: 30px auto;\n",
    "  max-width: 900px;\n",
    "  font-family: \"Segoe UI\", sans-serif;\n",
    "  color: #f3e8ff;\n",
    "  box-shadow: 0 0 30px rgba(187, 134, 252, 0.6);\n",
    "  line-height: 1.8em;\n",
    "}\n",
    "\n",
    "/* 🪄 Headers with glow */\n",
    ".python-hw h2 {\n",
    "  color: #bb86fc;\n",
    "  text-shadow: 0 0 12px rgba(187, 134, 252, 1);\n",
    "  font-family: \"Cinzel Decorative\", serif;\n",
    "  margin-bottom: 15px;\n",
    "}\n",
    "\n",
    ".python-hw h3 {\n",
    "  color: #e0b3ff;\n",
    "  text-shadow: 0 0 8px rgba(224, 179, 255, 0.9);\n",
    "  margin-top: 18px;\n",
    "}\n",
    "\n",
    "/* 🔮 Task list style */\n",
    ".python-hw li {\n",
    "  margin: 10px 0;\n",
    "  padding-left: 5px;\n",
    "}\n",
    "\n",
    ".python-hw strong {\n",
    "  color: #d29eff;\n",
    "  text-shadow: 0 0 6px rgba(210,158,255,0.8);\n",
    "}\n",
    "</style>\n",
    "\n",
    "<div class=\"python-hw\">\n",
    "  <h2>📚 Homeworks & Creative Tasks (Python, Pick 1)</h2>\n",
    "\n",
    "  <h3>✨ Task 1: Simple Loot Box</h3>\n",
    "  <p>\n",
    "    Create a basic program that opens 10 loot boxes.  \n",
    "    Use a slider to change the chance of getting rare items (10% to 90%).  \n",
    "    Count how many common vs rare items you get.  \n",
    "    Display the results in a simple list.\n",
    "  </p>\n",
    "\n",
    "  <h3>🎲 Task 2: Dice Rolling Counter</h3>\n",
    "  <p>\n",
    "    Roll a 6-sided die 20 times.  \n",
    "    Keep track of how many times each number (1–6) appears.  \n",
    "    Show the counts in a simple chart or list.  \n",
    "    Students can see if numbers appear evenly or not.\n",
    "  </p>\n",
    "\n",
    "  <h3>📖 Task 3: Random Story Generator</h3>\n",
    "  <p>\n",
    "    Pick random words from simple lists (character, place, action).  \n",
    "    Example: <i>\"The [knight/wizard/dragon] went to the [castle/forest/cave] and [fought/slept/ate]\"</i>.  \n",
    "    Generate 5 random stories with one button click.  \n",
    "    Show all stories in a list.\n",
    "  </p>\n",
    "\n",
    "  <h3>⚖️ Task 4: Basic Fairness Test</h3>\n",
    "  <p>\n",
    "    Roll a die 100 times.  \n",
    "    Count how many times each number appears.  \n",
    "    Check if each number appears around 16–17 times (100 ÷ 6 ≈ 16.67).  \n",
    "    Display results: <b>\"Fair!\"</b> if numbers are close to 16–17, <b>\"Maybe unfair?\"</b> if very different.\n",
    "  </p>\n",
    "\n",
    "  <p><i>All tasks should use simple <b>JavaScript</b> with <code>Math.random()</code> and basic HTML buttons and displays. No complex statistics or advanced libraries are needed.</i></p>\n",
    "</div>\n"
   ]
  },
  {
   "cell_type": "markdown",
   "id": "19444463",
   "metadata": {},
   "source": [
    "## Hack 1"
   ]
  },
  {
   "cell_type": "code",
   "execution_count": 5,
   "id": "93365992",
   "metadata": {},
   "outputs": [
    {
     "name": "stdout",
     "output_type": "stream",
     "text": [
      "Common items: 6\n",
      "Rare items: 4\n"
     ]
    }
   ],
   "source": [
    "\n",
    "rare_chance = 30 \n",
    "\n",
    "common = 0\n",
    "rare = 0\n",
    "\n",
    "for i in range(10):\n",
    "    if random.randint(1, 100) <= rare_chance:\n",
    "        rare += 1\n",
    "    else:\n",
    "        common += 1\n",
    "\n",
    "print(f\"Common items: {common}\")\n",
    "print(f\"Rare items: {rare}\")\n"
   ]
  },
  {
   "cell_type": "markdown",
   "id": "1dbddf1a",
   "metadata": {},
   "source": [
    "## Hack 2"
   ]
  },
  {
   "cell_type": "code",
   "execution_count": 4,
   "id": "6fc27b6b",
   "metadata": {},
   "outputs": [
    {
     "name": "stdout",
     "output_type": "stream",
     "text": [
      "1: 2 times\n",
      "2: 2 times\n",
      "3: 3 times\n",
      "4: 6 times\n",
      "5: 2 times\n",
      "6: 5 times\n"
     ]
    }
   ],
   "source": [
    "\n",
    "dice_counts = {i: 0 for i in range(1, 7)}\n",
    "\n",
    "for _ in range(20):\n",
    "    roll = random.randint(1, 6)\n",
    "    dice_counts[roll] += 1\n",
    "\n",
    "for number, count in dice_counts.items():\n",
    "    print(f\"{number}: {count} times\")\n"
   ]
  },
  {
   "cell_type": "markdown",
   "id": "fde6b8ce",
   "metadata": {},
   "source": [
    "## Hack 3"
   ]
  },
  {
   "cell_type": "code",
   "execution_count": null,
   "id": "2d9800ac",
   "metadata": {},
   "outputs": [
    {
     "name": "stdout",
     "output_type": "stream",
     "text": [
      "The dragon went to the cave and ate.\n",
      "The wizard went to the castle and slept.\n",
      "The wizard went to the cave and ate.\n",
      "The dragon went to the castle and fought.\n",
      "The knight went to the castle and ate.\n"
     ]
    }
   ],
   "source": [
    "characters = [\"Moiz\", \"Neil\", \"Aneesh\"]\n",
    "places = [\"classroom\", \"house\", \"movies\"]\n",
    "actions = [\"fought\", \"slept\", \"ate\"]\n",
    "\n",
    "stories = []\n",
    "\n",
    "for _ in range(5):\n",
    "    char = random.choice(characters)\n",
    "    place = random.choice(places)\n",
    "    action = random.choice(actions)\n",
    "    story = f\"{char} went to the {place} and {action}.\"\n",
    "    stories.append(story)\n",
    "\n",
    "for s in stories:\n",
    "    print(s)\n"
   ]
  },
  {
   "cell_type": "markdown",
   "id": "d9494042",
   "metadata": {},
   "source": [
    "## Hack 4"
   ]
  },
  {
   "cell_type": "code",
   "execution_count": 6,
   "id": "6199281a",
   "metadata": {},
   "outputs": [
    {
     "name": "stdout",
     "output_type": "stream",
     "text": [
      "1: 16 times\n",
      "2: 16 times\n",
      "3: 17 times\n",
      "4: 15 times\n",
      "5: 17 times\n",
      "6: 19 times\n",
      "Fair!\n"
     ]
    }
   ],
   "source": [
    "\n",
    "rolls = [random.randint(1, 6) for _ in range(100)]\n",
    "counts = {i: rolls.count(i) for i in range(1, 7)}\n",
    "\n",
    "for number, count in counts.items():\n",
    "    print(f\"{number}: {count} times\")\n",
    "\n",
    "# Check fairness\n",
    "fair = all(14 <= c <= 19 for c in counts.values())  # roughly around 16–17\n",
    "print(\"Fair!\" if fair else \"Maybe unfair?\")\n"
   ]
  }
 ],
 "metadata": {
  "kernelspec": {
   "display_name": "venv",
   "language": "python",
   "name": "python3"
  },
  "language_info": {
   "codemirror_mode": {
    "name": "ipython",
    "version": 3
   },
   "file_extension": ".py",
   "mimetype": "text/x-python",
   "name": "python",
   "nbconvert_exporter": "python",
   "pygments_lexer": "ipython3",
   "version": "3.13.3"
  }
 },
 "nbformat": 4,
 "nbformat_minor": 5
}
