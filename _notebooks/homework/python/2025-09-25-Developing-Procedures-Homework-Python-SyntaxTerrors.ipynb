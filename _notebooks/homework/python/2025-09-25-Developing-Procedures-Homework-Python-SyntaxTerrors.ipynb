{
 "cells": [
  {
   "cell_type": "code",
   "execution_count": null,
   "id": "fe8aac41",
   "metadata": {},
   "outputs": [],
   "source": [
    "---\n",
    "layout: post\n",
    "title: Developing Procedures Homework\n",
    "description: Understanding Developing Procedures in Python\n",
    "permalink: /csp/big-idea-three/developingprocedures/python/hw/p3/syntaxterrors\n",
    "author: Kailyn S\n",
    "---"
   ]
  },
  {
   "cell_type": "markdown",
   "id": "a31f149f",
   "metadata": {},
   "source": [
    "<div align=\"center\" style=\"margin-bottom: 2em;\">\n",
    "  <a href=\"{{ site.baseurl }}/csp/big-idea-three/developingprocedures/lesson/p3/syntaxterrors\"\n",
    "     style=\"\n",
    "      display: inline-block;\n",
    "      background: linear-gradient(90deg, #2563eb 0%, #1e40af 100%);\n",
    "      color: white;\n",
    "      padding: 0.85em 2.2em;\n",
    "      border-radius: 0.6em;\n",
    "      font-weight: bold;\n",
    "      text-decoration: none;\n",
    "      font-size: 1.15em;\n",
    "      box-shadow: 0 4px 16px rgba(30,64,175,0.18), 0 1.5px 4px rgba(0,0,0,0.10);\n",
    "      transition: \n",
    "        background 0.2s,\n",
    "        transform 0.15s,\n",
    "        box-shadow 0.2s;\n",
    "    \"\n",
    "    onmouseover=\"this.style.transform='scale(1.045)'; this.style.boxShadow='0 8px 24px rgba(30,64,175,0.22), 0 2px 8px rgba(0,0,0,0.13)';\"\n",
    "    onmouseout=\"this.style.transform='scale(1)'; this.style.boxShadow='0 4px 16px rgba(30,64,175,0.18), 0 1.5px 4px rgba(0,0,0,0.10)';\"\n",
    "  >\n",
    "    Developing Procedures Lesson\n",
    "  </a>\n",
    "</div>"
   ]
  },
  {
   "cell_type": "markdown",
   "id": "e1f1e1b7",
   "metadata": {},
   "source": [
    "## Practice Developing Procedures\n",
    "In these examples, you'll be practicing developing procedures based off the context of the name and the call.\n",
    "\n",
    "Practice 1:"
   ]
  },
  {
   "cell_type": "code",
   "execution_count": 1,
   "id": "deab15c3",
   "metadata": {},
   "outputs": [
    {
     "name": "stdout",
     "output_type": "stream",
     "text": [
      "The sum is: 11\n"
     ]
    }
   ],
   "source": [
    "def add(a, b):  # what would you add here to make the function make sense later on?\n",
    "    return a + b\n",
    "\n",
    "def show_sum(a, b):\n",
    "    total = add(a, b)\n",
    "    print(\"The sum is:\", total)\n",
    "\n",
    "show_sum(4, 7)\n"
   ]
  },
  {
   "cell_type": "markdown",
   "id": "f6572a1e",
   "metadata": {},
   "source": [
    "Practice 2:"
   ]
  },
  {
   "cell_type": "code",
   "execution_count": 3,
   "id": "68fed7cf",
   "metadata": {},
   "outputs": [
    {
     "ename": "SyntaxError",
     "evalue": "expected ':' (1221511274.py, line 1)",
     "output_type": "error",
     "traceback": [
      "  \u001b[36mCell\u001b[39m\u001b[36m \u001b[39m\u001b[32mIn[3]\u001b[39m\u001b[32m, line 1\u001b[39m\n\u001b[31m    \u001b[39m\u001b[31mdef wake_up();\u001b[39m\n                 ^\n\u001b[31mSyntaxError\u001b[39m\u001b[31m:\u001b[39m expected ':'\n"
     ]
    }
   ],
   "source": [
    "def wake_up();\n",
    "    print(\"Wake up!\")\n",
    "\n",
    "def breakfast():\n",
    "    print(\"Eat breakfast!\")\n",
    "\n",
    "def get_ready():\n",
    "    print(\"Get ready for the day!\")\n",
    "\n",
    "# how would you change it so instead of having three seperate functions, you could only have one?\n",
    "def morning_routine():\n",
    "\n",
    "morning_routine()"
   ]
  },
  {
   "cell_type": "code",
   "execution_count": 4,
   "id": "bba6971a",
   "metadata": {},
   "outputs": [
    {
     "name": "stdout",
     "output_type": "stream",
     "text": [
      "Wake up!\n",
      "Eat breakfast!\n",
      "Get ready for the day!\n"
     ]
    }
   ],
   "source": [
    "def morning_routine():\n",
    "    print(\"Wake up!\")\n",
    "    print(\"Eat breakfast!\")\n",
    "    print(\"Get ready for the day!\")\n",
    "\n",
    "morning_routine()\n"
   ]
  },
  {
   "cell_type": "markdown",
   "id": "ff001db8",
   "metadata": {},
   "source": [
    "Practice 3:"
   ]
  },
  {
   "cell_type": "code",
   "execution_count": 5,
   "id": "5d1d521e",
   "metadata": {},
   "outputs": [
    {
     "name": "stdout",
     "output_type": "stream",
     "text": [
      "Hi Mr. Mort!\n",
      "Hi Moiz!\n"
     ]
    }
   ],
   "source": [
    "def greet(name):  # Add a parameter for the name\n",
    "    print(f\"Hi {name}!\")  # Use the name in the message\n",
    "\n",
    "# Test different inputs\n",
    "greet(\"Mr. Mort\")\n",
    "greet(\"Moiz\")\n"
   ]
  },
  {
   "cell_type": "markdown",
   "id": "464fca1f",
   "metadata": {},
   "source": [
    "## Combining Calling and Developing Procedures\n",
    "Now that you understand both calling and developing, let's combine the two to fully use functions!\n",
    "Your final task is to be able to produce, on your own, three procedures and call them in an order that makes sense. For example:"
   ]
  },
  {
   "cell_type": "code",
   "execution_count": 1,
   "id": "c23217aa",
   "metadata": {},
   "outputs": [
    {
     "name": "stdout",
     "output_type": "stream",
     "text": [
      "Your final average grade is: 89.8\n"
     ]
    }
   ],
   "source": [
    "def get_grades():\n",
    "    grades = [87, 93, 88, 91, 90]\n",
    "    return grades\n",
    "\n",
    "\n",
    "def grade_calc(grades):\n",
    "    total = sum(grades)\n",
    "    average = total / len(grades)\n",
    "    return average\n",
    "\n",
    "def display_grade():\n",
    "    grades = get_grades()\n",
    "    average = grade_calc(grades)\n",
    "    print (\"Your final average grade is:\", average)\n",
    "\n",
    "display_grade()"
   ]
  },
  {
   "cell_type": "markdown",
   "id": "b8f68a8d",
   "metadata": {},
   "source": [
    "The requirements for this are:\n",
    "1. must have three seperate procedures.\n",
    "2. must call all three procedures at least once, and it can be within other procedures.\n",
    "3. must have at least one print and at least one math function.\n",
    "4. at least one procedure must have multiple steps.\n",
    "\n",
    "Other than that, have fun and create something as simple or complex as you'd like!"
   ]
  },
  {
   "cell_type": "code",
   "execution_count": 6,
   "id": "7391fc83",
   "metadata": {},
   "outputs": [
    {
     "name": "stdout",
     "output_type": "stream",
     "text": [
      "Good morning!\n",
      "Time to stretch your body!\n",
      "Drink some water.\n",
      "You are eating 2 eggs and 2 slices of toast.\n",
      "Total calories: 300\n",
      "Great start! You have enough energy to tackle the day!\n"
     ]
    }
   ],
   "source": [
    "def wake_up():\n",
    "    print(\"Good morning!\")\n",
    "    print(\"Time to stretch your body!\")\n",
    "    print(\"Drink some water.\")\n",
    "\n",
    "def breakfast_calories(eggs, toast):\n",
    "    calories = (eggs * 70) + (toast * 80)  \n",
    "    print(f\"You are eating {eggs} eggs and {toast} slices of toast.\")\n",
    "    print(f\"Total calories: {calories}\")\n",
    "    return calories\n",
    "\n",
    "def motivation(calories):\n",
    "    if calories < 300:\n",
    "        print(\"You need more energy! Let's have a bigger breakfast tomorrow.\")\n",
    "    else:\n",
    "        print(\"Great start! You have enough energy to tackle the day!\")\n",
    "\n",
    "wake_up()                     \n",
    "calories = breakfast_calories(2, 2)  \n",
    "motivation(calories)       \n"
   ]
  },
  {
   "cell_type": "markdown",
   "id": "cf60a47b",
   "metadata": {},
   "source": [
    "# Extra Python Practice\n",
    "## Problem 1\n",
    "Write three procedures:\n",
    "\n",
    "1. morningWorkout() that prints three different exercises.\n",
    "\n",
    "2. alculateBMI(weight, height) that returns BMI using the formula weight / (height ** 2).\n",
    "\n",
    "3. healthCheck(bmi) that prints if the BMI is underweight, normal, or overweight.\n",
    "\n",
    "Call all three procedures in a logical order."
   ]
  },
  {
   "cell_type": "code",
   "execution_count": 7,
   "id": "e6b32ca5",
   "metadata": {},
   "outputs": [
    {
     "name": "stdout",
     "output_type": "stream",
     "text": [
      "Do 10 push-ups\n",
      "Run in place for 5 minutes\n",
      "Stretch arms and legs\n",
      "Normal weight\n"
     ]
    }
   ],
   "source": [
    "def morningWorkout():\n",
    "    print(\"Do 10 push-ups\")\n",
    "    print(\"Run in place for 5 minutes\")\n",
    "    print(\"Stretch arms and legs\")\n",
    "\n",
    "def calculateBMI(weight, height):\n",
    "    return weight / (height ** 2)\n",
    "\n",
    "def healthCheck(bmi):\n",
    "    if bmi < 18.5:\n",
    "        print(\"Underweight\")\n",
    "    elif bmi < 25:\n",
    "        print(\"Normal weight\")\n",
    "    else:\n",
    "        print(\"Overweight\")\n",
    "\n",
    "# Call procedures\n",
    "morningWorkout()\n",
    "bmi = calculateBMI(70, 1.75)\n",
    "healthCheck(bmi)\n"
   ]
  },
  {
   "cell_type": "markdown",
   "id": "acb1536e",
   "metadata": {},
   "source": [
    "# Problem 2\n",
    "Create three procedures for a small snack routine:\n",
    "\n",
    "1. pickSnack() prints 3 snack options.\n",
    "\n",
    "2. calculateSnackCalories(snack, quantity) returns total calories (apple=95, cookie=150, banana=105).\n",
    "\n",
    "3. snackAdvice(calories) prints advice based on calories (<200: \"Light snack\", 200–300: \"Moderate\", >300: \"Heavy snack\").\n",
    "\n",
    "Call all procedures in order."
   ]
  },
  {
   "cell_type": "code",
   "execution_count": 8,
   "id": "9ed36fe2",
   "metadata": {},
   "outputs": [
    {
     "name": "stdout",
     "output_type": "stream",
     "text": [
      "Choose a snack: apple, cookie, banana\n",
      "Moderate snack\n"
     ]
    }
   ],
   "source": [
    "def pickSnack():\n",
    "    print(\"Choose a snack: apple, cookie, banana\")\n",
    "\n",
    "def calculateSnackCalories(snack, quantity):\n",
    "    calories_dict = {\"apple\": 95, \"cookie\": 150, \"banana\": 105}\n",
    "    return calories_dict[snack] * quantity\n",
    "\n",
    "def snackAdvice(calories):\n",
    "    if calories < 200:\n",
    "        print(\"Light snack\")\n",
    "    elif calories <= 300:\n",
    "        print(\"Moderate snack\")\n",
    "    else:\n",
    "        print(\"Heavy snack\")\n",
    "\n",
    "# Call procedures\n",
    "pickSnack()\n",
    "total_calories = calculateSnackCalories(\"cookie\", 2)\n",
    "snackAdvice(total_calories)\n"
   ]
  }
 ],
 "metadata": {
  "kernelspec": {
   "display_name": "venv",
   "language": "python",
   "name": "python3"
  },
  "language_info": {
   "codemirror_mode": {
    "name": "ipython",
    "version": 3
   },
   "file_extension": ".py",
   "mimetype": "text/x-python",
   "name": "python",
   "nbconvert_exporter": "python",
   "pygments_lexer": "ipython3",
   "version": "3.13.3"
  }
 },
 "nbformat": 4,
 "nbformat_minor": 5
}
