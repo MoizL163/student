{
 "cells": [
  {
   "cell_type": "raw",
   "id": "256c9d49",
   "metadata": {
    "vscode": {
     "languageId": "raw"
    }
   },
   "source": [
    "---\n",
    "layout: blogs \n",
    "toc: true\n",
    "title: 1st Blogs\n",
    "description: This is my first blog.\n",
    "date: 2024-06-01\n",
    "search_exclude: true\n",
    "author: Moiz Lukmani\n",
    "permalink: /blogs/blog1\n",
    "---"
   ]
  },
  {
   "cell_type": "markdown",
   "id": "68d288cc",
   "metadata": {},
   "source": [
    "# My CSP Journey\n",
    "## 1: Set up Github and VSCode\n",
    "1. Created a GitHub account and set up a new repository.  \n",
    "2. Installed Git on my computer and configured my username and email.  \n",
    "3. Signed in to GitHub through VS Code.  \n",
    "4. Cloned my repository into VS Code so I could work on it locally.  \n",
    "5. Made changes in VS Code, committed them, and pushed them back to GitHub.  \n",
    "## 2: Tools\n",
    "1. I used the `make` command to build and serve my CSP project, which helped automate the process of converting notebooks and running the site.  \n",
    "2. I worked inside the **opencs** framework, which provided the structure for my coursework and project files.  \n",
    "3. I collaborated with my classmates through our **team repository**, where we shared code and kept our work organized.  \n",
    "4. I made regular **commits** to track my progress and document changes, which made it easier to review history and work together effectively.  \n",
    "## 3: Github Pages\n",
    "1. I set up **GitHub Pages** to publish my CSP project directly from my repository.  \n",
    "2. By pushing changes to the main branch, the site automatically rebuilt and updated online.  \n",
    "3. This made it easy to share my work with others by just sending them the GitHub Pages link.  \n",
    "## 4: Background and Sprite Hacks\n",
    "The base page was provided by my teacher, which already included the sine function sprite animation. I customized it by changing the background and updating the sprite in the front matter, so the page looked unique while still using the original structure.  \n",
    "### Some problems I encountered\n",
    "While working on my CSP projects, I ran into several issues and learned how to fix them. At first, I had trouble setting up and activating my Python virtual environment (`venv`), but I fixed it by creating a new venv with `python3 -m venv venv` and activating it with `source venv/bin/activate`. I also ran into missing modules like `nbconvert`, which I solved by installing them with `pip install nbconvert`. On GitHub, I had problems with `git pull` because of divergent branches, and I fixed it by choosing whether to merge with `git pull --no-rebase` or rebase with `git pull --rebase`. With Jekyll, I got errors about missing layouts and the `csv` gem, which I fixed by adding `gem 'csv'` to the Gemfile or by creating my own layout file. I also had Mermaid diagram errors because `mmdc` was missing, and I fixed that by installing Mermaid CLI with `npm install -g @mermaid-js/mermaid-cli`. Each of these errors taught me how to troubleshoot, install dependencies, and manage my repository more effectively.  "
   ]
  }
 ],
 "metadata": {
  "language_info": {
   "name": "python"
  }
 },
 "nbformat": 4,
 "nbformat_minor": 5
}
